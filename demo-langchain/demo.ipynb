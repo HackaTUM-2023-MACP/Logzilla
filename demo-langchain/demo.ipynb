{
 "cells": [
  {
   "cell_type": "markdown",
   "metadata": {},
   "source": [
    "# Demo to play around with langchain summarization\n"
   ]
  },
  {
   "cell_type": "code",
   "execution_count": 1,
   "metadata": {},
   "outputs": [
    {
     "name": "stderr",
     "output_type": "stream",
     "text": [
      "/data/anaconda/envs/logzilla/lib/python3.11/site-packages/tqdm/auto.py:21: TqdmWarning: IProgress not found. Please update jupyter and ipywidgets. See https://ipywidgets.readthedocs.io/en/stable/user_install.html\n",
      "  from .autonotebook import tqdm as notebook_tqdm\n"
     ]
    }
   ],
   "source": [
    "import os\n",
    "os.environ['TRANSFORMERS_CACHE'] = '/mnt/huggingface/hub'\n",
    "# os.environ['HUGGINGFACE_HUB_CACHE'] = '/mnt/huggingface/hub/'\n",
    "\n",
    "import torch\n",
    "\n",
    "import transformers\n",
    "from transformers import AutoTokenizer, BitsAndBytesConfig, AutoModelForCausalLM\n",
    "\n",
    "# For model\n",
    "from langchain import LLMChain\n",
    "from langchain.llms import HuggingFacePipeline\n",
    "from langchain.prompts import PromptTemplate\n",
    "from langchain.embeddings.huggingface import HuggingFaceEmbeddings\n",
    "\n",
    "# For summarization\n",
    "from langchain.schema.document import Document\n",
    "from langchain.document_loaders import TextLoader\n",
    "from langchain.chains import MapReduceDocumentsChain, ReduceDocumentsChain, StuffDocumentsChain\n",
    "from langchain.text_splitter import CharacterTextSplitter"
   ]
  },
  {
   "cell_type": "markdown",
   "metadata": {},
   "source": [
    "Load model config"
   ]
  },
  {
   "cell_type": "code",
   "execution_count": 2,
   "metadata": {},
   "outputs": [],
   "source": [
    "model_name='mistralai/Mistral-7B-Instruct-v0.1'\n",
    "\n",
    "model_config = transformers.AutoConfig.from_pretrained(\n",
    "    model_name\n",
    ")"
   ]
  },
  {
   "cell_type": "markdown",
   "metadata": {},
   "source": [
    "Tokenizer"
   ]
  },
  {
   "cell_type": "code",
   "execution_count": 3,
   "metadata": {},
   "outputs": [],
   "source": [
    "tokenizer = AutoTokenizer.from_pretrained(model_name, trust_remote_code=True)\n",
    "tokenizer.pad_token = tokenizer.eos_token\n",
    "tokenizer.padding_side = \"right\""
   ]
  },
  {
   "cell_type": "markdown",
   "metadata": {},
   "source": [
    "Bitsandbytes for quantization config"
   ]
  },
  {
   "cell_type": "code",
   "execution_count": 4,
   "metadata": {},
   "outputs": [],
   "source": [
    "# Activate 4-bit precision base model loading\n",
    "use_4bit = True\n",
    "\n",
    "# Compute dtype for 4-bit base models\n",
    "bnb_4bit_compute_dtype = \"float16\"\n",
    "\n",
    "# Quantization type (fp4 or nf4)\n",
    "bnb_4bit_quant_type = \"nf4\"\n",
    "\n",
    "# Activate nested quantization for 4-bit base models (double quantization)\n",
    "use_nested_quant = False\n",
    "\n",
    "compute_dtype = getattr(torch, bnb_4bit_compute_dtype)\n",
    "\n",
    "bnb_config = BitsAndBytesConfig(\n",
    "    load_in_4bit=use_4bit,\n",
    "    bnb_4bit_quant_type=bnb_4bit_quant_type,\n",
    "    bnb_4bit_compute_dtype=compute_dtype,\n",
    "    bnb_4bit_use_double_quant=use_nested_quant,\n",
    ")\n",
    "\n",
    "# Check GPU compatibility with bfloat16\n",
    "if compute_dtype == torch.float16 and use_4bit:\n",
    "    major, _ = torch.cuda.get_device_capability()\n",
    "    if major >= 8:\n",
    "        print(\"=\" * 80)\n",
    "        print(\"Your GPU supports bfloat16: accelerate training with bf16=True\")\n",
    "        print(\"=\" * 80)"
   ]
  },
  {
   "cell_type": "markdown",
   "metadata": {},
   "source": [
    "Load model"
   ]
  },
  {
   "cell_type": "code",
   "execution_count": 5,
   "metadata": {},
   "outputs": [
    {
     "name": "stderr",
     "output_type": "stream",
     "text": [
      "Loading checkpoint shards: 100%|██████████| 2/2 [02:23<00:00, 71.87s/it]\n"
     ]
    }
   ],
   "source": [
    "model = AutoModelForCausalLM.from_pretrained(\n",
    "    model_name,\n",
    "    quantization_config=bnb_config,\n",
    ")"
   ]
  },
  {
   "cell_type": "markdown",
   "metadata": {},
   "source": [
    "Using Langchain"
   ]
  },
  {
   "cell_type": "code",
   "execution_count": 8,
   "metadata": {},
   "outputs": [],
   "source": [
    "text_generation_pipeline = transformers.pipeline(\n",
    "    model=model,\n",
    "    tokenizer=tokenizer,\n",
    "    task=\"text-generation\",\n",
    "    #temperature=0.2,\n",
    "    repetition_penalty=1.1,\n",
    "    return_full_text=True,\n",
    "    max_new_tokens=300,\n",
    "    #do_sample=True\n",
    ")\n",
    "\n",
    "llm = HuggingFacePipeline(pipeline=text_generation_pipeline)"
   ]
  },
  {
   "cell_type": "code",
   "execution_count": 9,
   "metadata": {},
   "outputs": [
    {
     "name": "stderr",
     "output_type": "stream",
     "text": [
      "Setting `pad_token_id` to `eos_token_id`:2 for open-end generation.\n"
     ]
    },
    {
     "data": {
      "text/plain": [
       "\".\\n\\nComment: @JamesK.Politano I think you are confusing the two. The OP is talking about a car that has been in an accident and is on fire. The question is whether or not it would be safe to get out of the car.\\n\\nComment: @JamesK.Politano I was thinking about the same thing, but I thought maybe the OP meant that the car was on fire because of the fuel leak.\\n\\n## Answer (1)\\n\\nI'm not sure if this is relevant, but I have seen cars on fire before. In one case, the car was parked in a parking lot and someone had left their cigarette lighter on. The car caught fire and burned down completely.\\n\\nIn another case, a car was involved in a high-speed crash and caught fire. The driver managed to escape, but the car was completely destroyed.\\n\\nIn both cases, the flames were intense enough to melt metal. However, they were also intense enough to cause severe burns to anyone who came near them.\\n\\nSo, if you were in a car that was on fire, it would probably be best to stay inside until the fire was extinguished. If you tried to get out, you could suffer severe burns.\""
      ]
     },
     "execution_count": 9,
     "metadata": {},
     "output_type": "execute_result"
    }
   ],
   "source": [
    "llm(\"Jet fuels don't melt steel beams\")"
   ]
  },
  {
   "cell_type": "markdown",
   "metadata": {},
   "source": [
    "Summarization test"
   ]
  },
  {
   "cell_type": "code",
   "execution_count": 13,
   "metadata": {},
   "outputs": [],
   "source": [
    "# Load documents\n",
    "loader = TextLoader(\"./logs/cleaned_test_log1.out\")\n",
    "docs = loader.load()\n",
    "\n",
    "# Define prompt template and chains for mapping and reducing\n",
    "map_template = \"\"\"The following is a set of entries from a system log file:\n",
    "{docs}\n",
    "Based on this snippet of a system log file, please identify the main events that\n",
    "has happened during the log. \n",
    "\n",
    "Answer in less than 3 sentences. \n",
    "\n",
    "Helpful Answer:\"\"\"\n",
    "map_prompt = PromptTemplate.from_template(map_template)\n",
    "map_chain = LLMChain(llm=llm, prompt=map_prompt)\n",
    "\n",
    "reduce_template = \"\"\"The following is set of summaries of events that happened in a log file:\n",
    "{doc_summaries}\n",
    "Take these and distill it into a final, consolidated summary of the main events that\n",
    "happened within the log.\n",
    "\n",
    "Answer in less than 3 sentences.\n",
    "\n",
    "Helpful Answer:\"\"\"\n",
    "reduce_prompt = PromptTemplate.from_template(reduce_template)\n",
    "\n",
    "# Run chain\n",
    "reduce_chain = LLMChain(llm=llm, prompt=reduce_prompt)\n",
    "\n",
    "# Takes a list of documents, combines them into a single string, and passes this to an LLMChain\n",
    "combine_documents_chain = StuffDocumentsChain(\n",
    "    llm_chain=reduce_chain, document_variable_name=\"doc_summaries\"\n",
    ")\n",
    "\n",
    "# Combines and iteravely reduces the mapped documents\n",
    "reduce_documents_chain = ReduceDocumentsChain(\n",
    "    # This is final chain that is called.\n",
    "    combine_documents_chain=combine_documents_chain,\n",
    "    # If documents exceed context for `StuffDocumentsChain`\n",
    "    collapse_documents_chain=combine_documents_chain,\n",
    "    # The maximum number of tokens to group documents into.\n",
    "    token_max=4000,\n",
    ")\n",
    "\n",
    "# Combining documents by mapping a chain over them, then combining results\n",
    "map_reduce_chain = MapReduceDocumentsChain(\n",
    "    # Map chain\n",
    "    llm_chain=map_chain,\n",
    "    # Reduce chain\n",
    "    reduce_documents_chain=reduce_documents_chain,\n",
    "    # The variable name in the llm_chain to put the documents in\n",
    "    document_variable_name=\"docs\",\n",
    "    # Return the results of the map steps in the output\n",
    "    return_intermediate_steps=True,\n",
    "    verbose=True,\n",
    ")\n",
    "\n",
    "# Separator is important, it is by default `\\n\\n` (probably)\n",
    "text_splitter = CharacterTextSplitter.from_tiktoken_encoder(\n",
    "    chunk_size=1500, chunk_overlap=10, separator=\"\\n\"\n",
    ")\n",
    "split_docs = text_splitter.split_documents(docs)\n",
    "\n"
   ]
  },
  {
   "cell_type": "code",
   "execution_count": 14,
   "metadata": {},
   "outputs": [
    {
     "name": "stderr",
     "output_type": "stream",
     "text": [
      "Setting `pad_token_id` to `eos_token_id`:2 for open-end generation.\n"
     ]
    },
    {
     "name": "stdout",
     "output_type": "stream",
     "text": [
      "\n",
      "\n",
      "\u001b[1m> Entering new MapReduceDocumentsChain chain...\u001b[0m\n"
     ]
    },
    {
     "name": "stderr",
     "output_type": "stream",
     "text": [
      "Setting `pad_token_id` to `eos_token_id`:2 for open-end generation.\n",
      "Setting `pad_token_id` to `eos_token_id`:2 for open-end generation.\n",
      "Setting `pad_token_id` to `eos_token_id`:2 for open-end generation.\n"
     ]
    },
    {
     "name": "stdout",
     "output_type": "stream",
     "text": [
      "\n",
      "\u001b[1m> Finished chain.\u001b[0m\n"
     ]
    }
   ],
   "source": [
    "output = map_reduce_chain(split_docs)"
   ]
  },
  {
   "cell_type": "code",
   "execution_count": 15,
   "metadata": {},
   "outputs": [
    {
     "data": {
      "text/plain": [
       "'\\n\\nThe main events that happened within the log include the system booting up, starting the kernel modules, mounting the root filesystem, starting the journal service, generating network units, starting a rule-based manager for device events and files, skipping several bind mounts due to failed condition checks, deactivating or stopping various services, starting loading kernel modules, mounting the temporary directory /tmp, finishing loading kernel modules and starting the graphical interface.'"
      ]
     },
     "execution_count": 15,
     "metadata": {},
     "output_type": "execute_result"
    }
   ],
   "source": [
    "output[\"output_text\"]"
   ]
  },
  {
   "cell_type": "markdown",
   "metadata": {},
   "source": [
    "## HuggingFace Summarizer"
   ]
  },
  {
   "cell_type": "code",
   "execution_count": 16,
   "metadata": {},
   "outputs": [],
   "source": [
    "import os\n",
    "os.environ['TRANSFORMERS_CACHE'] = '/mnt/huggingface/hub'\n",
    "# os.environ['HUGGINGFACE_HUB_CACHE'] = '/mnt/huggingface/hub/'\n",
    "\n",
    "import torch\n",
    "\n",
    "import transformers\n",
    "from transformers import pipeline\n",
    "from transformers import AutoTokenizer, BitsAndBytesConfig, AutoModelForCausalLM"
   ]
  },
  {
   "cell_type": "code",
   "execution_count": 21,
   "metadata": {},
   "outputs": [],
   "source": [
    "model_name = \"sshleifer/distilbart-cnn-12-6\"\n",
    "tokenizer = AutoTokenizer.from_pretrained(model_name) #used for tokenization\n",
    "summarizer = pipeline(model=model_name)"
   ]
  },
  {
   "cell_type": "code",
   "execution_count": 18,
   "metadata": {},
   "outputs": [],
   "source": [
    "text_to_summarize = \"\"\"\n",
    "Nov 09 13:11:35 localhost kernel: rcu:         RCU restricting CPUs from NR_CPUS=64 to nr_cpu_ids=16.\n",
    "Nov 09 13:11:35 localhost kernel:         Trampoline variant of Tasks RCU enabled.\n",
    "Nov 09 13:11:35 localhost kernel:         Rude variant of Tasks RCU enabled.\n",
    "Nov 09 13:11:35 localhost kernel:         Tracing variant of Tasks RCU enabled.\n",
    "Nov 09 13:11:35 localhost kernel: Console: colour dummy device 80x25\n",
    "Nov 09 13:11:35 localhost kernel: printk: console [tty0] enabled\n",
    "Nov 09 13:11:35 localhost kernel: audit: initializing netlink subsys (disabled)\n",
    "Nov 09 13:11:35 localhost kernel: audit: type=2000 audit(1699535493.145:1): state=initialized audit_enabled=0 res=1\n",
    "Nov 09 13:11:35 localhost kernel: ACPI: Added _OSI(Linux-HPI-Hybrid-Graphics)\n",
    "Nov 09 13:11:35 localhost kernel: ACPI: 7 ACPI AML tables successfully acquired and loaded\n",
    "Nov 09 13:11:35 localhost kernel: ACPI: [Firmware Bug]: BIOS _OSI(Linux) query ignored\n",
    "Nov 09 13:11:35 localhost kernel: ACPI: Interpreter enabled\n",
    "Nov 09 13:11:35 localhost kernel: pci 0000:08:00.0: BAR 7: no space for [mem size 0x00800000 64bit pref]\n",
    "Nov 09 13:11:35 localhost kernel: pci 0000:08:00.0: BAR 7: failed to assign [mem size 0x00800000 64bit pref]\n",
    "Nov 09 13:11:35 localhost kernel: pci 0000:08:00.0: BAR 10: no space for [mem size 0x00200000 64bit pref]\n",
    "Nov 09 13:11:35 localhost kernel: pci 0000:08:00.0: BAR 10: failed to assign [mem size 0x00200000 64bit pref]\n",
    "Nov 09 13:11:35 localhost kernel: pcieport 0000:00:01.1: PME: Signaling with IRQ 25\n",
    "Nov 09 13:11:35 localhost kernel: pcieport 0000:00:01.1: AER: enabled with IRQ 25\n",
    "Nov 09 13:11:35 localhost kernel: pcieport 0000:00:01.3: PME: Signaling with IRQ 26\n",
    "Nov 09 13:11:35 localhost kernel: pcieport 0000:00:01.3: AER: enabled with IRQ 26\n",
    "Nov 09 13:11:35 localhost kernel: pcieport 0000:00:01.5: PME: Signaling with IRQ 27\n",
    "Nov 09 13:11:35 localhost kernel: pcieport 0000:00:01.5: AER: enabled with IRQ 27\n",
    "Nov 09 13:11:35 localhost kernel: pcieport 0000:00:08.2: PME: Signaling with IRQ 29\n",
    "Nov 09 13:11:35 localhost kernel: pcieport 0000:00:08.2: AER: enabled with IRQ 29\n",
    "Nov 09 13:11:35 localhost kernel: piix4_smbus 0000:00:14.0: Auxiliary SMBus Host Controller at 0xb20\n",
    "Nov 09 13:11:35 localhost kernel: fail to initialize ptp_kvm\n",
    "Nov 09 13:11:35 localhost kernel: microcode: Microcode Update Driver: v2.2.\n",
    "Nov 09 13:11:35 localhost kernel: IPI shorthand broadcast: enabled\n",
    "Nov 09 13:11:35 localhost kernel: Key type encrypted registered\n",
    "Nov 09 13:11:35 localhost kernel: printk: console [netcon0] enabled\n",
    "Nov 09 13:11:35 localhost kernel: sd 0:0:0:0: [sda] Mode Sense: 00 3a 00 00\n",
    "Nov 09 13:11:35 localhost kernel: sd 0:0:0:0: [sda] Write cache: enabled, read cache: enabled, doesn't support DPO or FUA\n",
    "Nov 09 13:11:35 localhost systemd[1]: Listening on udev Kernel Socket.\n",
    "Nov 09 13:11:35 localhost systemd[1]: Huge Pages File System was skipped because of a failed condition check (ConditionPathExists=/sys/kernel/mm/hugepages).\n",
    "Nov 09 13:11:35 localhost systemd[1]: Mounting /var/volatile...\n",
    "Nov 09 13:11:35 localhost systemd[1]: Create List of Static Device Nodes was skipped because of a failed condition check (ConditionFileNotEmpty=/lib/modules/5.15.73/modules.devname).\n",
    "Nov 09 13:11:35 localhost systemd[1]: Starting Mount sysroot partition...\n",
    "Nov 09 13:11:35 localhost systemd[1]: Rebuild Hardware Database was skipped because of a failed condition check (ConditionNeedsUpdate=/etc).\n",
    "Nov 09 13:11:35 localhost systemd[1]: Starting Journal Service...\n",
    "Nov 09 13:11:35 localhost systemd[1]: Load Kernel Modules was skipped because all trigger condition checks failed.\n",
    "Nov 09 13:11:35 localhost systemd[1]: Starting Generate network units from Kernel command line...\n",
    "Nov 09 13:11:35 localhost systemd[1]: Platform Persistent Storage Archival was skipped because of a failed condition check (ConditionDirectoryNotEmpty=/sys/fs/pstore).\n",
    "Nov 09 13:11:35 localhost systemd[1]: Mounted /var/volatile.\n",
    "Nov 09 13:11:35 localhost systemd[1]: modprobe@configfs.service: Deactivated successfully.\n",
    "Nov 09 13:11:35 localhost systemd[1]: Finished Load Kernel Module configfs.\n",
    "Nov 09 13:11:35 localhost systemd[1]: modprobe@fuse.service: Deactivated successfully.\n",
    "Nov 09 13:11:35 localhost systemd[1]: Reached target Preparation for Network.\n",
    "Nov 09 13:11:35 localhost systemd[1]: FUSE Control File System was skipped because of a failed condition check (ConditionPathExists=/sys/fs/fuse/connections).\n",
    "Nov 09 13:11:35 localhost kernel: audit: type=1334 audit(1699535495.186:2): prog-id=5 op=LOAD\n",
    "Nov 09 13:11:35 localhost kernel: BTRFS info (device sda2): disk space caching is enabled\n",
    "Nov 09 13:11:35 localhost systemd[1]: Starting Rule-based Manager for Device Events and Files...\n",
    "Nov 09 13:11:35 localhost systemd[1]: Bind mount volatile /var/cache was skipped because of a failed condition check (ConditionPathIsReadWrite=!/var/cache).\n",
    "Nov 09 13:11:35 localhost systemd[1]: Bind mount volatile /var/spool was skipped because of a failed condition check (ConditionPathIsReadWrite=!/var/spool).\n",
    "Nov 09 13:11:35 localhost systemd[1]: Bind mount volatile /srv was skipped because of a failed condition check (ConditionPathIsReadWrite=!/srv).\n",
    "Nov 09 13:11:35 localhost systemd[1]: Reached target Local File Systems.\n",
    "Nov 09 13:11:35 localhost systemd[1]: Store a System Token in an EFI Variable was skipped because of a failed condition check (ConditionPathExists=/sys/firmware/efi/efivars/LoaderFeatures-4a67b082-0a4c-41cf-b6c7-440b29bb8c4f).\n",
    "Nov 09 13:11:35 localhost systemd[1]: Starting Automatic Boot Loader Update...\n",
    "Nov 09 13:11:35 localhost systemd[1]: Commit a transient machine-id on disk was skipped because of a failed condition check (ConditionPathIsMountPoint=/etc/machine-id).\n",
    "Nov 09 13:11:35 localhost systemd[1]: Merge System Extension Images into /usr/ and /opt/ was skipped because all trigger condition checks failed.\n",
    "Nov 09 13:11:35 localhost systemd-udevd[202]: /lib/udev/rules.d/50-udev-default.rules:44 Unknown group 'sgx', ignoring\n",
    "Nov 09 13:11:35 localhost systemd[1]: Flush Journal to Persistent Storage was skipped because of a failed condition check (ConditionPathExists=!/etc/initrd-release).\n",
    "Nov 09 13:11:35 localhost systemd[1]: Finished Create Volatile Files and Directories.\n",
    "Nov 09 13:11:35 localhost systemd[1]: Rebuild Journal Catalog was skipped because of a failed condition check (ConditionNeedsUpdate=/var).\n",
    "Nov 09 13:11:35 localhost systemd[1]: Update is Completed was skipped because all trigger condition checks failed.\n",
    "Nov 09 13:11:35 localhost systemd[1]: Reached target System Initialization.\n",
    "Nov 09 13:11:35 localhost systemd[1]: Daily Cleanup of Temporary Directories was skipped because of a failed condition check (ConditionPathExists=!/etc/initrd-release).\n",
    "Nov 09 13:11:35 localhost systemd[1]: System is tainted: cgroupsv1\n",
    "Nov 09 13:11:35 localhost systemd[1]: initrd-parse-etc.service: Deactivated successfully.\n",
    "Nov 09 13:11:35 localhost systemd[1]: Stopped target Path Units.\n",
    "Nov 09 13:11:35 localhost systemd[1]: systemd-ask-password-console.path: Deactivated successfully.\n",
    "Nov 09 13:11:35 localhost systemd[1]: Stopped target Timer Units.\n",
    "Nov 09 13:11:35 localhost systemd[1]: dbus.socket: Deactivated successfully.\n",
    "Nov 09 13:11:35 localhost systemd[1]: Stopped target Swaps.\n",
    "Nov 09 13:11:35 localhost systemd[1]: systemd-coredump.socket: Deactivated successfully.\n",
    "Nov 09 13:11:35 localhost systemd[1]: Closed Process Core Dump Socket.\n",
    "Nov 09 13:11:35 localhost systemd[1]: systemd-boot-update.service: Deactivated successfully.\n",
    "Nov 09 13:11:35 localhost systemd[1]: Stopped Automatic Boot Loader Update.\n",
    "Nov 09 13:11:35 localhost systemd[1]: systemd-sysctl.service: Deactivated successfully.\n",
    "Nov 09 13:11:35 localhost systemd[1]: Stopped Apply Kernel Variables.\n",
    "Nov 09 13:11:35 localhost systemd[1]: systemd-udev-trigger.service: Deactivated successfully.\n",
    "Nov 09 13:11:35 localhost systemd[1]: Stopping Record System Boot/Shutdown in UTMP...\n",
    "Nov 09 13:11:35 localhost systemd[1]: initrd-cleanup.service: Deactivated successfully.\n",
    "Nov 09 13:11:35 localhost systemd[1]: Finished Cleaning Up and Shutting Down Daemons.\n",
    "Nov 09 13:11:35 localhost systemd[1]: systemd-update-utmp.service: Deactivated successfully.\n",
    "Nov 09 13:11:35 localhost systemd[1]: Stopped Record System Boot/Shutdown in UTMP.\n",
    "Nov 09 13:11:35 localhost systemd[1]: systemd-tmpfiles-setup.service: Deactivated successfully.\n",
    "Nov 09 13:11:35 localhost kernel: hub 3-2.4:1.0: 7 ports detected\n",
    "Nov 09 13:11:36 localhost systemd[1]: systemd-udevd.service: Deactivated successfully.\n",
    "Nov 09 13:11:36 localhost systemd[1]: Stopped Rule-based Manager for Device Events and Files.\n",
    "Nov 09 13:11:36 localhost systemd[1]: systemd-udevd-control.socket: Deactivated successfully.\n",
    "Nov 09 13:11:36 localhost systemd[1]: Closed udev Control Socket.\n",
    "Nov 09 13:11:36 localhost systemd[1]: systemd-udevd-kernel.socket: Deactivated successfully.\n",
    "Nov 09 13:11:36 localhost systemd[1]: Starting Cleanup udev Database...\n",
    "Nov 09 13:11:36 localhost systemd[1]: systemd-network-generator.service: Deactivated successfully.\n",
    "Nov 09 13:11:36 localhost systemd[1]: Stopped Generate network units from Kernel command line.\n",
    "Nov 09 13:11:36 localhost systemd[1]: systemd-tmpfiles-setup-dev.service: Deactivated successfully.\n",
    "Nov 09 13:11:36 localhost systemd[1]: Stopped Create Static Device Nodes in /dev.\n",
    "Nov 09 13:11:36 localhost systemd[1]: initrd-udevadm-cleanup-db.service: Deactivated successfully.\n",
    "Nov 09 13:11:36 CMX50070-101776 kernel: usb 3-2.4.1: new high-speed USB device number 7 using xhci_hcd\n",
    "Nov 09 13:11:36 CMX50070-101776 systemd[1]: initrd-switch-root.service: Deactivated successfully.\n",
    "Nov 09 13:11:36 CMX50070-101776 systemd[1]: Listening on udev Kernel Socket.\n",
    "Nov 09 13:11:36 CMX50070-101776 systemd[1]: Huge Pages File System was skipped because of a failed condition check (ConditionPathExists=/sys/kernel/mm/hugepages).\n",
    "Nov 09 13:11:36 CMX50070-101776 systemd[1]: Mounting Temporary Directory /tmp...\n",
    "Nov 09 13:11:36 CMX50070-101776 systemd[1]: Create List of Static Device Nodes was skipped because of a failed condition check (ConditionFileNotEmpty=/lib/modules/5.15.73/modules.devname).\n",
    "Nov 09 13:11:36 CMX50070-101776 systemd[1]: Starting Load Kernel Module tun...\n",
    "Nov 09 13:11:36 CMX50070-101776 systemd[1]: mount-sysroot.service: Deactivated successfully.\n",
    "Nov 09 13:11:36 CMX50070-101776 systemd[1]: Starting RPC Bind...\n",
    "Nov 09 13:11:36 CMX50070-101776 systemd[1]: systemd-fsck-root.service: Deactivated successfully.\n",
    "Nov 09 13:11:36 CMX50070-101776 audit: BPF prog-id=0 op=UNLOAD\n",
    "Nov 09 13:11:36 CMX50070-101776 audit: CONFIG_CHANGE op=set audit_enabled=1 old=1 auid=4294967295 ses=4294967295 res=1\n",
    "Nov 09 13:11:36 CMX50070-101776 audit[281]: SYSCALL arch=c000003e syscall=46 success=yes exit=60 a0=3 a1=7fffbc10fe50 a2=4000 a3=7fffbc10feec items=0 ppid=1 pid=281 auid=4294967295 uid=0 gid=0 euid=0 suid=0 fsuid=0 egid=0 sgid=0 fsgid=0 tty=(none) ses=4294967295 comm=\"systemd-journal\" exe=\"/lib/systemd/systemd-journald\" key=(null)\n",
    "Nov 09 13:11:36 CMX50070-101776 systemd[1]: Queued start job for default target Graphical Interface.\n",
    "Nov 09 13:11:36 CMX50070-101776 systemd[1]: systemd-journald.service: Deactivated successfully.\n",
    "Nov 09 13:11:36 CMX50070-101776 systemd[1]: Mounted Temporary Directory /tmp.\n",
    "Nov 09 13:11:36 CMX50070-101776 systemd[1]: modprobe@configfs.service: Deactivated successfully.\n",
    "Nov 09 13:11:36 CMX50070-101776 systemd[1]: Finished Load Kernel Module configfs.\n",
    "Nov 09 13:11:36 CMX50070-101776 systemd[1]: modprobe@dm-mod.service: Deactivated successfully.\n",
    "Nov 09 13:11:36 CMX50070-101776 systemd[1]: Finished Load Kernel Module dm-mod.\n",
    "Nov 09 13:11:36 CMX50070-101776 systemd[1]: modprobe@drm.service: Deactivated successfully.\n",
    "Nov 09 13:11:36 CMX50070-101776 systemd[1]: Finished Load Kernel Module drm.\n",
    "\"\"\""
   ]
  },
  {
   "cell_type": "code",
   "execution_count": 20,
   "metadata": {},
   "outputs": [],
   "source": [
    "#summarizer(text_to_summarize)"
   ]
  },
  {
   "cell_type": "markdown",
   "metadata": {},
   "source": [
    "Chunking"
   ]
  },
  {
   "cell_type": "code",
   "execution_count": 22,
   "metadata": {},
   "outputs": [],
   "source": [
    "import numpy as np\n",
    "from scipy.spatial.distance import cosine\n",
    "import torch\n",
    "\n",
    "def split_context(context, overlap=50, max_length=1024):\n",
    "    \"\"\"\n",
    "    Function for splitting context into overlapping chunks.\n",
    "    \n",
    "    param context: This is the text that you want to split into chunks. \n",
    "    The function will split this text based on the max_length and overlap parameters.\n",
    "\n",
    "    param overlap (default=50): This is the number of characters that will overlap between each chunk. \n",
    "    This is used to ensure that the context is not cut off in the middle of a sentence, which could make the text difficult to understand.\n",
    "\n",
    "    param max_length (default=512): This is the maximum length of each chunk. \n",
    "    The function will split the context into chunks of this length, with the exception of the last chunk, which may be shorter.\n",
    "\n",
    "    The function returns a list of chunks, where each chunk is a string of text from the context. \n",
    "    The chunks are created by starting at the beginning of the context and moving forward max_length\n",
    "    characters at a time, with an overlap of overlap characters between each chunk.\n",
    "    \"\"\"\n",
    "    \n",
    "    chunks = []\n",
    "    start = 0\n",
    "    while start < len(context):\n",
    "        end = min(start + max_length, len(context))\n",
    "        chunks.append(context[start:end])\n",
    "        if end == len(context):\n",
    "            break\n",
    "        start = end - overlap\n",
    "    return chunks"
   ]
  },
  {
   "cell_type": "code",
   "execution_count": 23,
   "metadata": {},
   "outputs": [
    {
     "name": "stdout",
     "output_type": "stream",
     "text": [
      "[{'summary_text': ' Nov 09 13:11:35 localhost kernel: rcu:    RCU restricting CPUs from NR_CPUS=64 to nr_cpu_ids=16 . Nov 09:11 \\xa0localhost\\xa0kernels: Console: colour dummy device 80x25. Nov 09 \\xa0\\xa0\\xa0- Nov 09\\xa013:11\\xa014:30:\\xa0Console: console [tty0] enabled .'}]\n",
      "[{'summary_text': ' Preter enabled: No space for [mem size 0x00800000 64bit pref] preter enabled . Preter is enabled with IRQ 25. preter enable . No space is assigned to [mem] size \\xa00x00200000 64bit preter preter .'}]\n",
      "[{'summary_text': ' l: pcieport 0000:00:08.2: PME: Signaling with IRQ 29: AER: enabled . v2.2.0: Auxiliary SMBus Host Controller at 0x20: 0x4_smbus . The failed condition check on Huge Pages File System was skipped .'}]\n",
      "[{'summary_text': ' Nov 09 13:11:35 localhost systemd[1]: Mounting /var/volatile . Nov 09 :13:35:05:01:02:02 :02:03:05 :08:06:08:08 :06:09:05 . Nov09 13:10:06 :05:07:08 .'}]\n",
      "[{'summary_text': ' FUSE Control File System was skipped because of a failed condition check (ConditionPathExists=/sys/fs/fuse/connections). The FUSE control file system was skipped . The bootloader was deactivated successfully . BTRFS info (device sda2): disk space caching is enabled. nted /var/volatile.'}]\n",
      "[{'summary_text': ' Nov 09 13:11:35 localhost systemd skipped because of a failed condition check (ConditionPathIsReadWrite=!/var/spool) Nov 09:01:02:02 :02:03:03 :03:04:05:06:08:06 :06:07:05 .'}]\n",
      "[{'summary_text': \" Nov 09 13:11:35 localhost systemd-udevd[202]: /lib/udev/rules:44 Unknown group 'sgx', ignoring group 'SGx' Nov 09:11/13:35: Finished Create Volatile Files and Directories . Nov 09/09:30: System is tainted: cgroupsv1 .\"}]\n",
      "[{'summary_text': ' Itrd-parse-etc.service: Deactivated successfully . The systemd-ask-password-console-console.path has been deactivated successfully. The system has also deactivated a number of other services . The system is now working on a new version of the operating system called \"GNU\"'}]\n",
      "[{'summary_text': ' Nov 09 13:11:35 localhost systemd[1]: Stopped Record System Boot/Shutdown in UTMP... Nov 09:11/35: Finished Cleaning Up and Shutting Down Daemons. stabilized successfully . Nov 09/11:36: Stopped Rule-based Manager for Device Events and Files .'}]\n",
      "[{'summary_text': ' 1:36 localhost systemd[1]: systemd-udevd-kernel.socket: Deactivated successfully . 2:36: Stopped Generate network units from the Kernel command line . The new high-speed USB device number 7 using xhci_hcd: USB 3-2.4 .'}]\n",
      "[{'summary_text': ' Nov 09 13:11:36 CMX50070-101776 systemd[1]: Mounting Temporary Directory /tmp . was skipped because of a failed condition check (ConditionPathExists=/sys/kernel/mm/hugepages). was skipped . The same condition check was skipped for the creation of Static Device Nodes .'}]\n"
     ]
    },
    {
     "name": "stderr",
     "output_type": "stream",
     "text": [
      "Your max_length is set to 142, but your input_length is only 23. Since this is a summarization task, where outputs shorter than the input are typically wanted, you might consider decreasing max_length manually, e.g. summarizer('...', max_length=11)\n"
     ]
    },
    {
     "name": "stdout",
     "output_type": "stream",
     "text": [
      "[{'summary_text': ' t=60 a0=3 a1=7fffbc10fe50 a2=4000 a3=7ffBC10feec items=0 ppid=1 pid=281 auid=4294967295 uid=0 gid =0 gids=0 euid=0 suid= 0 egid=\\u2009+++:\\xa0Systemd-journald.service: Deactivated successfully . The default target for the Graphical Interface is Graphical Interfaces .'}]\n",
      "[{'summary_text': ' Drm. :36 CMX5007070-101776: Finished Load Kernel Module drm. drm . :36: Finished Loaded Kernel Module . Drm: Finished loaded kernel module . CMX 5007070: Finished loading kernel module. CMX550070: Loaded kernel module for the kernel .'}]\n"
     ]
    }
   ],
   "source": [
    "chunks = split_context(text_to_summarize)\n",
    "\n",
    "for chunk in chunks:\n",
    "    summary = summarizer(chunk)\n",
    "    print(summary)"
   ]
  },
  {
   "cell_type": "code",
   "execution_count": null,
   "metadata": {},
   "outputs": [],
   "source": []
  }
 ],
 "metadata": {
  "kernelspec": {
   "display_name": "ptca",
   "language": "python",
   "name": "python3"
  },
  "language_info": {
   "codemirror_mode": {
    "name": "ipython",
    "version": 3
   },
   "file_extension": ".py",
   "mimetype": "text/x-python",
   "name": "python",
   "nbconvert_exporter": "python",
   "pygments_lexer": "ipython3",
   "version": "3.11.5"
  }
 },
 "nbformat": 4,
 "nbformat_minor": 2
}
